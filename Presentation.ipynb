{
 "cells": [
  {
   "metadata": {
    "ExecuteTime": {
     "end_time": "2024-12-15T13:23:56.906168Z",
     "start_time": "2024-12-15T13:23:56.902516Z"
    }
   },
   "cell_type": "code",
   "source": [
    "\"\"\"\n",
    "https://arxiv.org/pdf/2301.03362\n",
    "\"\"\""
   ],
   "id": "e430153a481f8f15",
   "outputs": [],
   "execution_count": 4
  },
  {
   "cell_type": "code",
   "id": "initial_id",
   "metadata": {
    "collapsed": true
   },
   "source": [
    "import torch\n",
    "import torchvision\n",
    "\n",
    "device = \"mps\" if torch.backends.mps.is_available() else \"cuda\" if torch.cuda.is_available() else \"cpu\"\n",
    "print(f\"Using device: {device}\")"
   ],
   "outputs": [],
   "execution_count": null
  },
  {
   "metadata": {},
   "cell_type": "code",
   "source": [
    "dataset = torchvision.datasets.MNIST(\n",
    "    root=\"data/\", train=True, download=True, transform=torchvision.transforms.ToTensor()\n",
    ")\n",
    "test_dataset = torchvision.datasets.MNIST(\n",
    "    root=\"data/\", train=False, download=True, transform=torchvision.transforms.ToTensor()\n",
    ")"
   ],
   "id": "c9344ab6c6d12698",
   "outputs": [],
   "execution_count": null
  },
  {
   "metadata": {},
   "cell_type": "markdown",
   "source": "# Odszumianie obrazów\n",
   "id": "41180baa8a010c21"
  },
  {
   "metadata": {},
   "cell_type": "markdown",
   "source": "## Autoenkoder\n",
   "id": "46d8c9accb40db17"
  },
  {
   "metadata": {},
   "cell_type": "code",
   "source": "",
   "id": "a1c803775412df50",
   "outputs": [],
   "execution_count": null
  },
  {
   "metadata": {},
   "cell_type": "markdown",
   "source": "## Variational Autoencoder",
   "id": "3ed87f61d7936d90"
  },
  {
   "metadata": {},
   "cell_type": "code",
   "source": "",
   "id": "8365c737f76718f2",
   "outputs": [],
   "execution_count": null
  },
  {
   "metadata": {},
   "cell_type": "markdown",
   "source": "# Modele Generatywne",
   "id": "ed70ed7513cd688e"
  },
  {
   "metadata": {},
   "cell_type": "markdown",
   "source": "## Generative Adversarial Networks",
   "id": "eb9766fe7a5b48e9"
  },
  {
   "metadata": {},
   "cell_type": "code",
   "source": "",
   "id": "7b7c9cfb0ac76a2f",
   "outputs": [],
   "execution_count": null
  },
  {
   "metadata": {},
   "cell_type": "markdown",
   "source": "## Dyfuzja",
   "id": "cf2ad9a1a19992d7"
  },
  {
   "metadata": {},
   "cell_type": "code",
   "source": "",
   "id": "e504eb08ac4ab444",
   "outputs": [],
   "execution_count": null
  },
  {
   "metadata": {},
   "cell_type": "markdown",
   "source": [
    "# Inpainting\n",
    "\n",
    "## Dyfuzja + maskowanie (dopytać Asi)?"
   ],
   "id": "878a0e00f5ec437"
  },
  {
   "metadata": {},
   "cell_type": "code",
   "source": "",
   "id": "a7a945976edb5b28",
   "outputs": [],
   "execution_count": null
  },
  {
   "metadata": {},
   "cell_type": "markdown",
   "source": "# Modele 3D",
   "id": "827f2a3bb2228b22"
  },
  {
   "metadata": {},
   "cell_type": "code",
   "source": "",
   "id": "ede93bd69bdc5640",
   "outputs": [],
   "execution_count": null
  }
 ],
 "metadata": {
  "kernelspec": {
   "display_name": "Python 3",
   "language": "python",
   "name": "python3"
  },
  "language_info": {
   "codemirror_mode": {
    "name": "ipython",
    "version": 2
   },
   "file_extension": ".py",
   "mimetype": "text/x-python",
   "name": "python",
   "nbconvert_exporter": "python",
   "pygments_lexer": "ipython2",
   "version": "2.7.6"
  }
 },
 "nbformat": 4,
 "nbformat_minor": 5
}
