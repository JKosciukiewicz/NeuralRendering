{
 "cells": [
  {
   "cell_type": "code",
   "id": "initial_id",
   "metadata": {
    "collapsed": true,
    "jupyter": {
     "is_executing": true
    }
   },
   "source": "import torch",
   "outputs": [],
   "execution_count": null
  },
  {
   "metadata": {},
   "cell_type": "markdown",
   "source": "# Odszumianie obrazów\n",
   "id": "41180baa8a010c21"
  },
  {
   "metadata": {},
   "cell_type": "markdown",
   "source": "## Autoenkoder\n",
   "id": "46d8c9accb40db17"
  },
  {
   "metadata": {},
   "cell_type": "code",
   "outputs": [],
   "execution_count": null,
   "source": "",
   "id": "a1c803775412df50"
  },
  {
   "metadata": {},
   "cell_type": "markdown",
   "source": "## Variational Autoencoder",
   "id": "3ed87f61d7936d90"
  },
  {
   "metadata": {},
   "cell_type": "code",
   "outputs": [],
   "execution_count": null,
   "source": "",
   "id": "8365c737f76718f2"
  },
  {
   "metadata": {},
   "cell_type": "markdown",
   "source": "# Modele Generatywne",
   "id": "ed70ed7513cd688e"
  },
  {
   "metadata": {},
   "cell_type": "markdown",
   "source": "## Generative Adversarial Networks",
   "id": "eb9766fe7a5b48e9"
  },
  {
   "metadata": {},
   "cell_type": "code",
   "outputs": [],
   "execution_count": null,
   "source": "",
   "id": "7b7c9cfb0ac76a2f"
  },
  {
   "metadata": {},
   "cell_type": "markdown",
   "source": "## Dyfuzja",
   "id": "cf2ad9a1a19992d7"
  },
  {
   "metadata": {},
   "cell_type": "code",
   "outputs": [],
   "execution_count": null,
   "source": "",
   "id": "e504eb08ac4ab444"
  },
  {
   "metadata": {},
   "cell_type": "markdown",
   "source": [
    "# Inpainting\n",
    "\n",
    "## Dyfuzja + maskowanie (dopytać Asi)?"
   ],
   "id": "878a0e00f5ec437"
  },
  {
   "metadata": {},
   "cell_type": "code",
   "outputs": [],
   "execution_count": null,
   "source": "",
   "id": "a7a945976edb5b28"
  },
  {
   "metadata": {},
   "cell_type": "markdown",
   "source": "# Modele 3D",
   "id": "827f2a3bb2228b22"
  },
  {
   "metadata": {},
   "cell_type": "code",
   "outputs": [],
   "execution_count": null,
   "source": "",
   "id": "ede93bd69bdc5640"
  }
 ],
 "metadata": {
  "kernelspec": {
   "display_name": "Python 3",
   "language": "python",
   "name": "python3"
  },
  "language_info": {
   "codemirror_mode": {
    "name": "ipython",
    "version": 2
   },
   "file_extension": ".py",
   "mimetype": "text/x-python",
   "name": "python",
   "nbconvert_exporter": "python",
   "pygments_lexer": "ipython2",
   "version": "2.7.6"
  }
 },
 "nbformat": 4,
 "nbformat_minor": 5
}
