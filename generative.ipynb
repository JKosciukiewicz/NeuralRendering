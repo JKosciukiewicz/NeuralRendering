{
 "cells": [
  {
   "cell_type": "markdown",
   "metadata": {},
   "source": [
    "# Modele generatywne w zastosowaniach obrazu 2D i 3D"
   ]
  },
  {
   "cell_type": "markdown",
   "metadata": {},
   "source": [
    "### Plan opracowania\n",
    "1. Wprowadzenie do modeli generatywnych\n",
    "2. Zadanie generowania i dogenerowywania fragmentów obrazów\n",
    "3. Modele generatywne w grafice 2D\n",
    "4. Modele generatywne w grafice 3D"
   ]
  },
  {
   "cell_type": "markdown",
   "metadata": {},
   "source": [
    "## Modele Generatywne\n",
    "\n",
    "### Definicja\n",
    "> Generative AI models can take inputs such as text, image, audio, video, and code and generate new content into any of the modalities mentioned. \\\n",
    "> For example, it can turn text inputs into an image, turn an image into a song, or turn video into text. \\\n",
    "> -- <cite>[Nvidia](https://www.nvidia.com/en-us/glossary/generative-ai/#:~:text=Generative%20AI%20models%20can%20take,or%20turn%20video%20into%20text.)</cite>\n",
    "\n",
    "Modele generatywne to rodzaj algorytmów uczenia maszynowego, które uczą się generować nowe dane na wzór danych treningowych. \\\n",
    "W przeciwieństwie do modeli dyskryminacyjnych, które klasyfikują lub przewidują wartości, modele generatywne są zaprojektowane do tworzenia nowych przykładów.\n",
    "\n",
    "### Rodzaje modeli generatywnych\n",
    "#### Generative Adversarial Networks (GANs) (2)\n",
    "\n",
    "![GANs](./images/gan_diagram.svg)\n",
    "Źródło: [Google Developers](https://developers.google.com/machine-learning/gan/gan_structure?hl=pl)\n",
    "\n",
    "Modele te składają się z dwóch sieci neuronowych:\n",
    "- Generator: Tworzy nowe dane.\n",
    "- Dyskryminator: Rozróżnia dane prawdziwe (z danych treningowych) od wygenerowanych (przez generator).\n",
    "\n",
    "Trening GAN polega na „grze” między generatorem i dyskryminatorem:\n",
    "- Celem generatora jest wyprodukowanie danych, które są trudne do odróżnienia od prawdziwych.\n",
    "- Celem dyskryminatora jest rozróżnienie prawdziwych danych od wygenerowanych.\n",
    "\n",
    "Po odpowiednim treningu generator produkuje dane, które są trudne do odróżnienia od prawdziwych.\n",
    "\n",
    "#### Variational Autoencoders (VAEs) (3,4)\n",
    "VAE są modelami generatywnymi wykorzystywanymi do generowania nowych danych w formie wariacji danych wejściowych, na których zostały wytrenowane.\n",
    "\n",
    "\n",
    "VAE składają się z dwóch sieci neuronowych:\n",
    "- Encoder: Mapuje dane wejściowe na przestrzeń latentną.\n",
    "- Decoder: Mapuje dane z przestrzeni latentnej na dane wyjściowe.\n",
    "\n",
    "\n",
    "### Modele dyfuzyjne (5)\n",
    "Modele dyfuzyjne to generatywne modele, które uczą się odtwarzać dane, odwracając proces stopniowego dodawania szumu do danych (proces dyfuzji).\n",
    "\n",
    "Proces uczenia modelu dyfuzyjnego składa się z dwóch etapów:\n",
    "- Proces do przodu: Stopniowe dodawanie szumu do danych aż do ich pełnego zaszumienia (losowy szum).\n",
    "- Proces odwrotny: Odszumianie krok po kroku przy użyciu modelu (np. UNet), aby odzyskać pierwotne dane.\n",
    "\n",
    "Model jest trenowany na rzeczywistych danych, optymalizując różnicę między zaszumionymi danymi a ich rekonstrukcją - uczy się przewidywać rozkład danych na każdym etapie procesu."
   ]
  },
  {
   "cell_type": "markdown",
   "metadata": {},
   "source": [
    "## Zadanie generowania i dogenerowywania obszarów\n",
    "\n",
    "### Image inpainting\n",
    "\n",
    "Image inpainting to technika w obszarze przetwarzania obrazów, której celem jest uzupełnianie brakujących fragmentów obrazu lub usuwanie niepożądanych elementów w sposób, który jest wizualnie spójny z otoczeniem.\n",
    "\n",
    "Proces inpaintingu opiera się na analizie dostępnych informacji w obrazie (np. kolorów, tekstur, krawędzi) i ich wykorzystaniu do uzupełnienia brakujących obszarów.\n",
    "\n",
    "#### Podstawowe kroki inpaintingu:\n",
    "1. Zidentyfikowanie brakujących obszarów: Oznaczenie fragmentów obrazu, które wymagają rekonstrukcji (np. maskowanie uszkodzonych miejsc).\n",
    "2. Analiza kontekstu: Algorytm bada otaczające obszary w celu zrozumienia wzorców, które mają zostać uzupełnione.\n",
    "3. Uzupełnianie braków: Wykorzystanie technik interpolacji, kopiowania pikseli, syntezy tekstur lub generatywnego modelowania, aby uzupełnić brakujące miejsca.\n"
   ]
  },
  {
   "cell_type": "markdown",
   "metadata": {},
   "source": [
    "#### Klasyczne metody inpaintingu:\n",
    "- Interpolacja: Uzupełnianie brakujących obszarów na podstawie sąsiednich pikseli.\n",
    "- Kopiowanie pikseli: Kopiowanie pikseli z obszarów referencyjnych."
   ]
  },
  {
   "cell_type": "code",
   "execution_count": null,
   "metadata": {},
   "outputs": [],
   "source": [
    "%pip install numpy opencv-python matplotlib"
   ]
  },
  {
   "cell_type": "markdown",
   "metadata": {},
   "source": [
    "*Import niezbędnych bibliotek*"
   ]
  },
  {
   "cell_type": "code",
   "execution_count": 2,
   "metadata": {},
   "outputs": [],
   "source": [
    "import cv2\n",
    "import numpy as np\n",
    "import matplotlib.pyplot as plt"
   ]
  },
  {
   "cell_type": "markdown",
   "metadata": {},
   "source": [
    "*Definicja funkcji do prezentacji wyników inpaintingu*"
   ]
  },
  {
   "cell_type": "code",
   "execution_count": 82,
   "metadata": {},
   "outputs": [],
   "source": [
    "def display_images(original, mask, result):\n",
    "    plt.figure(figsize=(20, 5))\n",
    "\n",
    "    plt.subplot(1, 4, 1)\n",
    "    plt.title(\"Oryginalny obraz\")\n",
    "    plt.imshow(cv2.cvtColor(original, cv2.COLOR_BGR2RGB))\n",
    "    plt.axis('off')\n",
    "\n",
    "    plt.subplot(1, 4, 2)\n",
    "    plt.title(\"Maska\")\n",
    "    plt.imshow(mask, cmap='gray')\n",
    "    plt.axis('off')\n",
    "\n",
    "    plt.subplot(1, 4, 3)\n",
    "    plt.title(\"Obraz z maską\")\n",
    "    masked = original.copy()\n",
    "    masked[mask == 255] = [255, 255, 255]\n",
    "    plt.imshow(cv2.cvtColor(masked, cv2.COLOR_BGR2RGB))\n",
    "    plt.axis('off')\n",
    "\n",
    "    plt.subplot(1, 4, 4)\n",
    "    plt.title(\"Odtworzony obraz\")\n",
    "    plt.imshow(cv2.cvtColor(result, cv2.COLOR_BGR2RGB))\n",
    "    plt.axis('off')\n",
    "\n",
    "    plt.show()\n"
   ]
  },
  {
   "cell_type": "code",
   "execution_count": 51,
   "metadata": {},
   "outputs": [],
   "source": [
    "def ordinary_inpainting(original, mask):\n",
    "    return  cv2.inpaint(original, mask, inpaintRadius=3, flags=cv2.INPAINT_TELEA)"
   ]
  },
  {
   "cell_type": "code",
   "execution_count": 52,
   "metadata": {},
   "outputs": [],
   "source": [
    "original_image = cv2.imread('images/inpainting_04.jpg')\n",
    "\n",
    "image_center = (original_image.shape[1] // 2, original_image.shape[0] // 2)\n",
    "mask_size = (original_image.shape[1] // 4, original_image.shape[0] // 4)"
   ]
  },
  {
   "cell_type": "code",
   "execution_count": null,
   "metadata": {},
   "outputs": [],
   "source": [
    "big_rectangle_mask_in_the_middle = np.zeros(original_image.shape[:2], dtype=np.uint8)\n",
    "cv2.rectangle(big_rectangle_mask_in_the_middle, (image_center[0] - mask_size[0] // 2, image_center[1] - mask_size[1] // 2),\n",
    "              (image_center[0] + mask_size[0] // 2, image_center[1] + mask_size[1] // 2), 255, -1)\n",
    "\n",
    "inpaint = ordinary_inpainting(original_image, big_rectangle_mask_in_the_middle)\n",
    "display_images(original_image, big_rectangle_mask_in_the_middle, inpaint)"
   ]
  },
  {
   "cell_type": "code",
   "execution_count": null,
   "metadata": {},
   "outputs": [],
   "source": [
    "big_rectangle_mask_to_the_left = np.zeros(original_image.shape[:2], dtype=np.uint8)\n",
    "cv2.rectangle(big_rectangle_mask_to_the_left, (0, 0), (mask_size[0], mask_size[1]), 255, -1)\n",
    "\n",
    "inpaint = ordinary_inpainting(original_image, big_rectangle_mask_to_the_left)\n",
    "display_images(original_image, big_rectangle_mask_to_the_left, inpaint)"
   ]
  },
  {
   "cell_type": "code",
   "execution_count": null,
   "metadata": {},
   "outputs": [],
   "source": [
    "big_rectangle_mask_in_the_corner = np.zeros(original_image.shape[:2], dtype=np.uint8)\n",
    "cv2.rectangle(big_rectangle_mask_in_the_corner, (0, original_image.shape[0] - mask_size[1]), \n",
    "                (mask_size[0], original_image.shape[0]), 255, -1)\n",
    "\n",
    "inpaint = ordinary_inpainting(original_image, big_rectangle_mask_in_the_corner)\n",
    "display_images(original_image, big_rectangle_mask_in_the_corner, inpaint)"
   ]
  },
  {
   "cell_type": "code",
   "execution_count": null,
   "metadata": {},
   "outputs": [],
   "source": [
    "small_rectangle_mask_on_the_side = np.zeros(original_image.shape[:2], dtype=np.uint8)\n",
    "cv2.rectangle(small_rectangle_mask_on_the_side, (0, 0), (mask_size[0] // 2, mask_size[1]), 255, -1)\n",
    "\n",
    "inpaint = ordinary_inpainting(original_image, small_rectangle_mask_on_the_side)\n",
    "display_images(original_image, small_rectangle_mask_on_the_side, inpaint)"
   ]
  },
  {
   "cell_type": "markdown",
   "metadata": {},
   "source": [
    "### Zadanie 1 (Obowiązkowe): Implementacja prostego algorytmu inpaintingu\n",
    "Twoim zadaniem jest zaimplementowanie własnego, prostego algorytmu do rekonstrukcji brakujących fragmentów obrazu. \n",
    "W tym ćwiczeniu skoncentrujesz się na uzupełnianiu brakujących obszarów przy użyciu techniki interpolacji sąsiadujących pikseli.\n",
    "\n",
    "Szczegóły:\n",
    "1. Wczytaj obraz oraz maskę wskazującą brakujące obszary.\n",
    "2. Zaimplementuj prosty algorytm inpaintingu:\n",
    "3. Dla każdego piksela w brakującym obszarze (oznaczonym przez maskę):\n",
    "4. Zamień wartość piksela na średnią wartość jego sąsiednich pikseli, które nie są częścią maski.\n",
    "5. Wyświetl wynik na podstawie wypełnionych braków.\n",
    "\n",
    "Kod początkowy:"
   ]
  },
  {
   "cell_type": "code",
   "execution_count": 87,
   "metadata": {},
   "outputs": [],
   "source": [
    "def simple_inpaint(image, mask):\n",
    "    \"\"\"\n",
    "    Prosty algorytm inpaintingu: zastąp brakujące piksele średnią sąsiednich pikseli.\n",
    "    \"\"\"\n",
    "    result = image.copy()\n",
    "\n",
    "    for i in range(1, image.shape[0] - 1):\n",
    "        for j in range(1, image.shape[1] - 1):\n",
    "            if mask[i, j] == 255:\n",
    "                result[i, j] = (image[i - 1, j] + image[i + 1, j] + image[i, j - 1] + image[i, j + 1]) // 4\n",
    "\n",
    "    return result"
   ]
  },
  {
   "cell_type": "code",
   "execution_count": null,
   "metadata": {},
   "outputs": [],
   "source": [
    "simple_inpainting = simple_inpaint(original_image, big_rectangle_mask_in_the_middle)\n",
    "display_images(original_image, big_rectangle_mask_in_the_middle, simple_inpainting)"
   ]
  },
  {
   "cell_type": "markdown",
   "metadata": {},
   "source": [
    "## Inpainting z wykorzystaniem modeli generatywnych\n",
    "\n",
    "W celu uzyskania bardziej zaawansowanych rezultatów w inpaintingu, można wykorzystać modele generatywne, które uczą się generować nowe, spójne z otoczeniem fragmenty obrazu.\n",
    "\n",
    "#### Jak działa inpainting z wykorzystaniem modeli generatywnych?\n",
    "- Użytkownik dostarcza obraz z oznaczonymi brakującymi fragmentami (np. maską, która wskazuje obszary do uzupełnienia).\n",
    "- Model analizuje kontekst (otaczające piksele, strukturę i teksturę obrazu) w celu przewidzenia brakujących informacji.\n",
    "\n",
    "Wynikiem jest obraz, w którym brakujące obszary zostały wypełnione w sposób wizualnie spójny."
   ]
  },
  {
   "cell_type": "code",
   "execution_count": null,
   "metadata": {},
   "outputs": [],
   "source": [
    "%pip install diffusers transformers "
   ]
  },
  {
   "cell_type": "code",
   "execution_count": null,
   "metadata": {},
   "outputs": [],
   "source": [
    "from diffusers import StableDiffusionInpaintPipeline\n",
    "import torch\n",
    "from PIL import Image\n",
    "from diffusers.pipelines.stable_diffusion import safety_checker\n",
    "\n",
    "# Załaduj pretrenowany model\n",
    "pipe = StableDiffusionInpaintPipeline.from_pretrained(\n",
    "    \"runwayml/stable-diffusion-inpainting\", \n",
    "    torch_dtype=torch.float16\n",
    ").to(\"cuda\")\n",
    "\n",
    "# Trick wyłączający sprawdzanie bezpieczeństwa\n",
    "def sc(self, clip_input, images) : return images, [False for i in images]\n",
    "safety_checker.StableDiffusionSafetyChecker.forward = sc\n",
    "\n",
    "\n",
    "# Załaduj obraz i maskę\n",
    "image = Image.open(\"images/inpainting_05.png\").convert(\"RGB\")\n",
    "mask = Image.open(\"images/inpainting_05_mask.png\").convert(\"RGB\")  # Czarny: obszar do wypełnienia\n",
    "\n",
    "# Wypełnianie brakującego obszaru\n",
    "result = pipe(prompt=\"Face of a yellow cat, high resolution, sitting on a park bench\", image=image, mask_image=mask).images[0]\n",
    "\n",
    "# Zapis lub wyświetlenie wyniku\n",
    "result.save(\"images/inpainted_image.jpg\")\n",
    "result.show()"
   ]
  },
  {
   "cell_type": "markdown",
   "metadata": {},
   "source": [
    "### Wykorzystanie GAN-ów do inpaintingu"
   ]
  },
  {
   "cell_type": "code",
   "execution_count": 1,
   "metadata": {},
   "outputs": [],
   "source": [
    "import torch\n",
    "import torch.nn as nn\n",
    "import torch.optim as optim\n",
    "from torchvision import datasets, transforms\n",
    "from torchvision.utils import save_image\n",
    "import random\n",
    "from tqdm import tqdm"
   ]
  },
  {
   "cell_type": "code",
   "execution_count": 32,
   "metadata": {},
   "outputs": [],
   "source": [
    "class MaskedFashionMNIST(torch.utils.data.Dataset):\n",
    "    def __init__(self, train=True):\n",
    "        transform = transforms.Compose([\n",
    "            transforms.ToTensor(),\n",
    "            transforms.Normalize((0.5,), (0.5,))\n",
    "        ])\n",
    "        self.dataset = datasets.FashionMNIST(root=\"./data\", train=train, download=True, transform=transform)\n",
    "\n",
    "    def __len__(self):\n",
    "        return len(self.dataset)\n",
    "\n",
    "    def __getitem__(self, idx):\n",
    "        img, _ = self.dataset[idx]\n",
    "        mask = torch.ones_like(img)\n",
    "        \n",
    "        size = np.random.randint(10, 14)\n",
    "        x, y = np.random.randint(0, 28 - size, size=2)\n",
    "        \n",
    "        mask[:, x:x+size, y:y+size] = 0\n",
    "        masked_img = img * mask\n",
    "        \n",
    "        return masked_img, img, mask"
   ]
  },
  {
   "cell_type": "code",
   "execution_count": 3,
   "metadata": {},
   "outputs": [],
   "source": [
    "batch_size = 64\n",
    "\n",
    "transform = transforms.Compose([\n",
    "    transforms.ToTensor(),\n",
    "    transforms.Normalize((0.5,), (0.5,))\n",
    "])\n",
    "\n",
    "dataloader = torch.utils.data.DataLoader(\n",
    "    datasets.FashionMNIST('./data', train=True, download=True, transform=transform),\n",
    "    batch_size=batch_size, shuffle=True\n",
    ")"
   ]
  },
  {
   "cell_type": "code",
   "execution_count": 5,
   "metadata": {},
   "outputs": [],
   "source": [
    "class GeneratorInpaint(nn.Module):\n",
    "    def __init__(self):\n",
    "        super(GeneratorInpaint, self).__init__()\n",
    "        self.model = nn.Sequential(\n",
    "            nn.Conv2d(2, 64, 3, stride=1, padding=1),\n",
    "            nn.ReLU(),\n",
    "            nn.Conv2d(64, 128, 3, stride=1, padding=1),\n",
    "            nn.ReLU(),\n",
    "            nn.Conv2d(128, 1, 3, stride=1, padding=1),\n",
    "            nn.Tanh()\n",
    "        )\n",
    "    \n",
    "    def forward(self, masked_image, mask):\n",
    "        x = torch.cat((masked_image, mask), dim=1)\n",
    "        return self.model(x)"
   ]
  },
  {
   "cell_type": "code",
   "execution_count": 6,
   "metadata": {},
   "outputs": [],
   "source": [
    "class DiscriminatorInpaint(nn.Module):\n",
    "    def __init__(self):\n",
    "        super(DiscriminatorInpaint, self).__init__()\n",
    "        self.model = nn.Sequential(\n",
    "            nn.Conv2d(1, 64, 3, stride=2, padding=1),\n",
    "            nn.LeakyReLU(0.2),\n",
    "            nn.Conv2d(64, 128, 3, stride=2, padding=1),\n",
    "            nn.LeakyReLU(0.2),\n",
    "            nn.Flatten(),\n",
    "            nn.Linear(128 * 7 * 7, 1),\n",
    "            nn.Sigmoid()\n",
    "        )\n",
    "\n",
    "    def forward(self, img):\n",
    "        return self.model(img)"
   ]
  },
  {
   "cell_type": "code",
   "execution_count": 7,
   "metadata": {},
   "outputs": [],
   "source": [
    "def mask_images(images, mask_size):\n",
    "    masked_images = images.clone()\n",
    "    masks = torch.ones_like(images)\n",
    "    h, w = images.shape[2], images.shape[3]\n",
    "    for i in range(images.size(0)):\n",
    "        x, y = random.randint(0, h - mask_size), random.randint(0, w - mask_size)\n",
    "        masked_images[i, :, x:x+mask_size, y:y+mask_size] = 0\n",
    "        masks[i, :, x:x+mask_size, y:y+mask_size] = 0\n",
    "    return masked_images, masks"
   ]
  },
  {
   "cell_type": "code",
   "execution_count": 8,
   "metadata": {},
   "outputs": [],
   "source": [
    "def save_model(generator, discriminator, path):\n",
    "    torch.save(generator.state_dict(), f\"{path}/generator.pth\")\n",
    "    torch.save(discriminator.state_dict(), f\"{path}/discriminator.pth\")"
   ]
  },
  {
   "cell_type": "code",
   "execution_count": 9,
   "metadata": {},
   "outputs": [],
   "source": [
    "def train_inpainting_gan(generator, optimizer_G, discriminator, optimizer_D, criterion, criterion_recon, dataloader, epochs, device):\n",
    "    training_progress = tqdm(range(epochs))\n",
    "\n",
    "    for epoch in training_progress:\n",
    "        for i, (images, _) in enumerate(dataloader):\n",
    "            images = images.to(device)\n",
    "            masked_images, masks = mask_images(images, mask_size=10)\n",
    "            masked_images, masks = masked_images.to(device), masks.to(device)\n",
    "            \n",
    "            real_labels = torch.ones(images.size(0), 1).to(device)\n",
    "            fake_labels = torch.zeros(images.size(0), 1).to(device)\n",
    "\n",
    "            # Trening Dyskryminatora\n",
    "            optimizer_D.zero_grad()\n",
    "            outputs_real = discriminator(images)\n",
    "            d_loss_real = criterion(outputs_real, real_labels)\n",
    "            \n",
    "            fake_images = generator(masked_images, masks)\n",
    "            outputs_fake = discriminator(fake_images.detach())\n",
    "            d_loss_fake = criterion(outputs_fake, fake_labels)\n",
    "            \n",
    "            d_loss = d_loss_real + d_loss_fake\n",
    "            d_loss.backward()\n",
    "            optimizer_D.step()\n",
    "\n",
    "            # Trening Generatora\n",
    "            optimizer_G.zero_grad()\n",
    "            fake_images = generator(masked_images, masks)\n",
    "            outputs = discriminator(fake_images)\n",
    "            g_loss_gan = criterion(outputs, real_labels)\n",
    "            g_loss_recon = criterion_recon(fake_images, images)\n",
    "            g_loss = g_loss_gan + 10 * g_loss_recon\n",
    "            g_loss.backward()\n",
    "            optimizer_G.step()\n",
    "\n",
    "            if i % 100 == 0:\n",
    "                training_progress.set_description(f\"Batch [{i}/{len(dataloader)}] \\\n",
    "                        Loss D: {d_loss.item():.4f}, Loss G: {g_loss.item():.4f}\")\n",
    "        \n",
    "        save_image(masked_images, f\"images/inpainted/gan/masked_epoch_{epoch}.png\", nrow=8, normalize=True)\n",
    "        save_image(fake_images, f\"images/inpainted/gan/fake_epoch_{epoch}.png\", nrow=8, normalize=True)\n",
    "        save_image(images, f\"images/inpainted/gan/original_epoch_{epoch}.png\", nrow=8, normalize=True)\n",
    "\n",
    "    save_image(masked_images, f\"images/inpainted/gan/masked_final.png\", nrow=8, normalize=True)\n",
    "    save_image(fake_images, f\"images/inpainted/gan/fake_final.png\", nrow=8, normalize=True)\n",
    "    save_image(images, f\"images/inpainted/gan/original_final.png\", nrow=8, normalize=True)\n",
    "\n",
    "    save_model(generator, discriminator, \"models/saved/inpainting_gan\")\n",
    "\n",
    "    print(\"Trening zakończony!\")"
   ]
  },
  {
   "cell_type": "code",
   "execution_count": 12,
   "metadata": {},
   "outputs": [],
   "source": [
    "epochs = 30\n",
    "lr = 0.0002\n",
    "device = torch.device(\"cuda\" if torch.cuda.is_available() else \"cpu\")\n",
    "\n",
    "generator_inpaint = GeneratorInpaint().to(device)\n",
    "discriminator_inpaint = DiscriminatorInpaint().to(device)\n",
    "\n",
    "criterion = nn.BCELoss()\n",
    "criterion_recon = nn.L1Loss()\n",
    "\n",
    "optimizer_G = optim.Adam(generator_inpaint.parameters(), lr=lr)\n",
    "optimizer_D = optim.Adam(discriminator_inpaint.parameters(), lr=lr)"
   ]
  },
  {
   "cell_type": "code",
   "execution_count": null,
   "metadata": {},
   "outputs": [],
   "source": [
    "train_inpainting_gan(generator_inpaint, optimizer_G, discriminator_inpaint, optimizer_D, criterion, criterion_recon, dataloader, epochs, device)"
   ]
  },
  {
   "cell_type": "code",
   "execution_count": 16,
   "metadata": {},
   "outputs": [],
   "source": [
    "def show_test_images(generator, device):\n",
    "    generator.eval()\n",
    "    with torch.no_grad():\n",
    "        for i, (images, _) in enumerate(dataloader):\n",
    "            images = images.to(device)\n",
    "            masked_images, masks = mask_images(images, mask_size=10)\n",
    "            masked_images, masks = masked_images.to(device), masks.to(device)\n",
    "            fake_images = generator(masked_images, masks)\n",
    "\n",
    "            plt.figure(figsize=(20, 7))\n",
    "            for j in range(10):\n",
    "                plt.subplot(3, 10, j + 1)\n",
    "                plt.imshow(masked_images[j].cpu().numpy().transpose(1, 2, 0).squeeze(), cmap='gray')\n",
    "                plt.axis('off')\n",
    "\n",
    "                plt.subplot(3, 10, j + 11)\n",
    "                plt.imshow(fake_images[j].cpu().numpy().transpose(1, 2, 0).squeeze(), cmap='gray')\n",
    "                plt.axis('off')\n",
    "\n",
    "                plt.subplot(3, 10, j + 21)\n",
    "                plt.imshow(images[j].cpu().numpy().transpose(1, 2, 0).squeeze(), cmap='gray')\n",
    "                plt.axis('off')\n",
    "\n",
    "            plt.show()\n",
    "\n",
    "            if i == 0:\n",
    "                break"
   ]
  },
  {
   "cell_type": "code",
   "execution_count": 30,
   "metadata": {},
   "outputs": [
    {
     "name": "stderr",
     "output_type": "stream",
     "text": [
      "C:\\Users\\micha\\AppData\\Local\\Temp\\ipykernel_36836\\2639719981.py:2: FutureWarning: You are using `torch.load` with `weights_only=False` (the current default value), which uses the default pickle module implicitly. It is possible to construct malicious pickle data which will execute arbitrary code during unpickling (See https://github.com/pytorch/pytorch/blob/main/SECURITY.md#untrusted-models for more details). In a future release, the default value for `weights_only` will be flipped to `True`. This limits the functions that could be executed during unpickling. Arbitrary objects will no longer be allowed to be loaded via this mode unless they are explicitly allowlisted by the user via `torch.serialization.add_safe_globals`. We recommend you start setting `weights_only=True` for any use case where you don't have full control of the loaded file. Please open an issue on GitHub for any issues related to this experimental feature.\n",
      "  generator_inpaint.load_state_dict(torch.load(\"models/saved/inpainting_gan/generator.pth\"))\n"
     ]
    },
    {
     "data": {
      "image/png": "[encoded data removed]",
      "text/plain": [
       "<Figure size 2000x700 with 30 Axes>"
      ]
     },
     "metadata": {},
     "output_type": "display_data"
    }
   ],
   "source": [
    "generator_inpaint = GeneratorInpaint().to(device)\n",
    "generator_inpaint.load_state_dict(torch.load(\"models/saved/inpainting_gan/generator.pth\"))\n",
    "generator_inpaint = generator_inpaint.to(device)\n",
    "\n",
    "show_test_images(generator_inpaint, device)"
   ]
  },
  {
   "cell_type": "markdown",
   "metadata": {},
   "source": [
    "### Wykorzystanie VAE do inpaintingu"
   ]
  },
  {
   "cell_type": "code",
   "execution_count": 35,
   "metadata": {},
   "outputs": [],
   "source": [
    "class VAEInpaint(nn.Module):\n",
    "    def __init__(self, latent_dim=20):\n",
    "        super(VAEInpaint, self).__init__()\n",
    "        self.latent_dim = latent_dim\n",
    "\n",
    "        # Encoder\n",
    "        self.encoder = nn.Sequential(\n",
    "            nn.Flatten(),\n",
    "            nn.Linear(28 * 28, 512),\n",
    "            nn.ReLU(),\n",
    "            nn.Linear(512, 256),\n",
    "            nn.ReLU()\n",
    "        )\n",
    "        self.fc_mu = nn.Linear(256, latent_dim)\n",
    "        self.fc_logvar = nn.Linear(256, latent_dim)\n",
    "\n",
    "        # Decoder\n",
    "        self.decoder = nn.Sequential(\n",
    "            nn.Linear(latent_dim, 256),\n",
    "            nn.ReLU(),\n",
    "            nn.Linear(256, 512),\n",
    "            nn.ReLU(),\n",
    "            nn.Linear(512, 28 * 28),\n",
    "            nn.Tanh()\n",
    "        )\n",
    "\n",
    "    def encode(self, x):\n",
    "        h = self.encoder(x)\n",
    "        mu = self.fc_mu(h)\n",
    "        logvar = self.fc_logvar(h)\n",
    "        return mu, logvar\n",
    "\n",
    "    def reparameterize(self, mu, logvar):\n",
    "        std = torch.exp(0.5 * logvar)\n",
    "        eps = torch.randn_like(std)\n",
    "        return mu + eps * std\n",
    "\n",
    "    def decode(self, z):\n",
    "        return self.decoder(z).view(-1, 1, 28, 28)\n",
    "\n",
    "    def forward(self, x):\n",
    "        mu, logvar = self.encode(x)\n",
    "        z = self.reparameterize(mu, logvar)\n",
    "        recon_x = self.decode(z)\n",
    "        return recon_x, mu, logvar"
   ]
  },
  {
   "cell_type": "code",
   "execution_count": 36,
   "metadata": {},
   "outputs": [],
   "source": [
    "def vae_loss_function(recon_x, x, mu, logvar):\n",
    "    BCE = nn.functional.mse_loss(recon_x, x, reduction='sum')\n",
    "    KLD = -0.5 * torch.sum(1 + logvar - mu.pow(2) - logvar.exp())\n",
    "    return BCE + KLD"
   ]
  },
  {
   "cell_type": "code",
   "execution_count": 37,
   "metadata": {},
   "outputs": [],
   "source": [
    "def train_vae(model, train_loader, epochs=10, lr=1e-3):\n",
    "    optimizer = optim.Adam(model.parameters(), lr=lr)\n",
    "    model.train()\n",
    "\n",
    "    for epoch in range(epochs):\n",
    "        train_loss = 0\n",
    "        for masked_imgs, original_imgs, _ in train_loader:\n",
    "            masked_imgs, original_imgs = masked_imgs.to(device), original_imgs.to(device)\n",
    "            optimizer.zero_grad()\n",
    "            recon_imgs, mu, logvar = model(masked_imgs)\n",
    "            loss = vae_loss_function(recon_imgs, original_imgs, mu, logvar)\n",
    "            loss.backward()\n",
    "            optimizer.step()\n",
    "            train_loss += loss.item()\n",
    "\n",
    "        print(f\"Epoch [{epoch+1}/{epochs}], Loss: {train_loss / len(train_loader.dataset):.4f}\")\n"
   ]
  },
  {
   "cell_type": "code",
   "execution_count": 38,
   "metadata": {},
   "outputs": [],
   "source": [
    "def test_vae(model, test_loader):\n",
    "    model.eval()\n",
    "    with torch.no_grad():\n",
    "        for masked_imgs, original_imgs, masks in test_loader:\n",
    "            masked_imgs, original_imgs = masked_imgs.to(device), original_imgs.to(device)\n",
    "            recon_imgs, _, _ = model(masked_imgs)\n",
    "\n",
    "            n = 8\n",
    "            plt.figure(figsize=(15, 5))\n",
    "            for i in range(n):\n",
    "                # Original\n",
    "                plt.subplot(3, n, i+1)\n",
    "                plt.imshow(original_imgs[i].squeeze().cpu(), cmap=\"gray\")\n",
    "                plt.axis(\"off\")\n",
    "                if i == 0: plt.title(\"Original\")\n",
    "\n",
    "                # Masked\n",
    "                plt.subplot(3, n, i+1+n)\n",
    "                plt.imshow(masked_imgs[i].squeeze().cpu(), cmap=\"gray\")\n",
    "                plt.axis(\"off\")\n",
    "                if i == 0: plt.title(\"Masked\")\n",
    "\n",
    "                # Reconstructed\n",
    "                plt.subplot(3, n, i+1+2*n)\n",
    "                plt.imshow(recon_imgs[i].squeeze().cpu(), cmap=\"gray\")\n",
    "                plt.axis(\"off\")\n",
    "                if i == 0: plt.title(\"Reconstructed\")\n",
    "\n",
    "            plt.show()\n",
    "            break\n"
   ]
  },
  {
   "cell_type": "code",
   "execution_count": 39,
   "metadata": {},
   "outputs": [],
   "source": [
    "batch_size = 128\n",
    "train_loader = torch.utils.data.DataLoader(MaskedFashionMNIST(train=True), batch_size=batch_size, shuffle=True)\n",
    "test_loader = torch.utils.data.DataLoader(MaskedFashionMNIST(train=False), batch_size=batch_size, shuffle=False)\n",
    "\n",
    "latent_dim = 20\n",
    "vae_inpaint = VAEInpaint(latent_dim).to(device)"
   ]
  },
  {
   "cell_type": "code",
   "execution_count": null,
   "metadata": {},
   "outputs": [],
   "source": [
    "train_vae(vae_inpaint, train_loader, epochs=10, lr=1e-3)"
   ]
  },
  {
   "cell_type": "code",
   "execution_count": null,
   "metadata": {},
   "outputs": [],
   "source": [
    "test_vae(vae_inpaint, test_loader)"
   ]
  },
  {
   "cell_type": "markdown",
   "metadata": {},
   "source": [
    "## Generowanie obrazów 2D"
   ]
  },
  {
   "cell_type": "markdown",
   "metadata": {},
   "source": []
  },
  {
   "cell_type": "markdown",
   "metadata": {},
   "source": [
    "## Literatura\n",
    "1. [What is Generative AI] (https://www.nvidia.com/en-us/glossary/generative-ai/#:~:text=Generative%20AI%20models%20can%20take,or%20turn%20video%20into%20text.)\n",
    "2. [Generative Adversarial Networks] (Ian J. Goodfellow, Jean Pouget-Abadie, Mehdi Mirza, Bing Xu, David Warde-Farley, Sherjil Ozair, Aaron Courville, Yoshua Bengio. Generative Adversarial Networks. arXiv:1406.2661)\n",
    "3. [Variational Autoencoders] (Diederik P. Kingma, Max Welling. Auto-Encoding Variational Bayes. arXiv:1312.6114) \n",
    "4. [Variational Autoencoders] (Diederik P. Kingma, Max Welling. An Introduction to Variational Autoencoders. arXiv:1906.02691)\n",
    "5. [Diffusion Models] (Ling Yang, Zhilong Zhang, Yang Song, Shenda Hong, Runsheng Xu, Yue Zhao, Wentao Zhang, Bin Cui, Ming-Hsuan Yang. Diffusion Models: A Comprehensive Survey of Methods and Applications. arXiv:2209.00796)"
   ]
  }
 ],
 "metadata": {
  "kernelspec": {
   "display_name": "torchenv",
   "language": "python",
   "name": "python3"
  },
  "language_info": {
   "codemirror_mode": {
    "name": "ipython",
    "version": 3
   },
   "file_extension": ".py",
   "mimetype": "text/x-python",
   "name": "python",
   "nbconvert_exporter": "python",
   "pygments_lexer": "ipython3",
   "version": "3.9.19"
  }
 },
 "nbformat": 4,
 "nbformat_minor": 2
}
